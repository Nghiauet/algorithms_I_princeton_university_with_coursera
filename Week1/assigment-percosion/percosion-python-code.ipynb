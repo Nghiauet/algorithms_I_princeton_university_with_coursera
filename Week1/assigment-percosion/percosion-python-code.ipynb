{
 "cells": [
  {
   "cell_type": "code",
   "execution_count": 2,
   "metadata": {},
   "outputs": [],
   "source": [
    "# input n and T\n",
    "# The gird n*n and run T times \n",
    "# run T the number run experiment\n",
    "# p the probability of open the site\n"
   ]
  },
  {
   "cell_type": "markdown",
   "metadata": {},
   "source": [
    "# Define UnionFInd"
   ]
  },
  {
   "cell_type": "code",
   "execution_count": 3,
   "metadata": {},
   "outputs": [],
   "source": [
    "class UnionFind():\n",
    "    def __init__(self, n):\n",
    "        self.parent = list(range(n)) # init parent from 0 to n \n",
    "        \n",
    "    def find(self, x):\n",
    "        while self.parent[x] != x:\n",
    "            x = self.parent[x]\n",
    "        return x\n",
    "    def union(self, i,j):\n",
    "        self.parent[i] = self.find(j)"
   ]
  },
  {
   "cell_type": "code",
   "execution_count": 4,
   "metadata": {},
   "outputs": [],
   "source": [
    "# Initialize the UnionFind data structure with 10 elements\n",
    "n = 10\n",
    "uf = UnionFind(n)\n",
    "\n",
    "# Perform some union operations\n",
    "uf.union(1, 2)\n",
    "uf.union(2, 4)\n",
    "# Perform another union operation\n",
    "uf.union(5, 6)\n",
    "uf.union(4, 5)"
   ]
  },
  {
   "cell_type": "code",
   "execution_count": 5,
   "metadata": {},
   "outputs": [
    {
     "name": "stdout",
     "output_type": "stream",
     "text": [
      "find of 2 6\n",
      "find of 5 6\n",
      "[0, 2, 4, 3, 6, 6, 6, 7, 8, 9]\n"
     ]
    }
   ],
   "source": [
    "# check some data\n",
    "print(\"find of 2\", uf.find(2))\n",
    "print(\"find of 5\", uf.find(5))\n",
    "print(uf.parent)"
   ]
  },
  {
   "cell_type": "markdown",
   "metadata": {},
   "source": [
    "# Define percolison class"
   ]
  },
  {
   "cell_type": "code",
   "execution_count": 18,
   "metadata": {},
   "outputs": [],
   "source": [
    "# public class Percolation {\n",
    "\n",
    "#     // creates n-by-n grid, with all sites initially blocked\n",
    "#     public Percolation(int n)\n",
    "\n",
    "#     // opens the site (row, col) if it is not open already\n",
    "#     public void open(int row, int col)\n",
    "\n",
    "#     // is the site (row, col) open?\n",
    "#     public boolean isOpen(int row, int col)\n",
    "\n",
    "#     // is the site (row, col) full?\n",
    "#     public boolean isFull(int row, int col)\n",
    "\n",
    "#     // returns the number of open sites\n",
    "#     public int numberOfOpenSites()\n",
    "\n",
    "#     // does the system percolate?\n",
    "#     public boolean percolates()\n",
    "\n",
    "#     // test client (optional)\n",
    "#     public static void main(String[] args)\n",
    "# }\n",
    "import numpy as np \n",
    "class Percolation():\n",
    "    def __init__(self,n):\n",
    "        # define percolation\n",
    "        self.percolation = [[0]*n for _ in range(n)]\n",
    "        self.uf  = UnionFind(n*n + 2)\n",
    "        self.n  = n\n",
    "        # the table begin from i , j = 0 , 0  with id =0 to i , j = n n with id = n * n\n",
    "        # id = n* i + (j +1 )\n",
    "        # id2ij = {}\n",
    "        # ij2id = {}\n",
    "        # for i in range(1 , n + 1):\n",
    "        #     for j in range(1 , n + 1):\n",
    "        #         id2ij[id][\"i\"] = i\n",
    "        #         id2ij[id][\"j\"] = j\n",
    "        \n",
    "        vir_point_1 = 0\n",
    "        vir_point_2 = n + 1\n",
    "        #virtural point is 0 and n+1\n",
    "        for j in range(n):\n",
    "            self.uf.union(vir_point_1 , self.id_of_ij(0,j))\n",
    "            self.uf.union(vir_point_2 , self.id_of_ij(n-1,j))\n",
    "    def id_of_ij(self, i , j):\n",
    "        return (self.n * i) + (j +  1) \n",
    "\n",
    "\n",
    "        \n",
    "    def open(self,i,j):\n",
    "        self.percolation[i][j] = 1\n",
    "        \n",
    "    def isOpen(self,i,j):\n",
    "        return True if self.percolation[i][j] == 1 else False\n",
    "    \n",
    "    def isFull(self,i,j):\n",
    "        \n",
    "        \n",
    "        \n",
    "\n"
   ]
  },
  {
   "cell_type": "code",
   "execution_count": 19,
   "metadata": {},
   "outputs": [
    {
     "ename": "KeyError",
     "evalue": "<built-in function id>",
     "output_type": "error",
     "traceback": [
      "\u001b[0;31m---------------------------------------------------------------------------\u001b[0m",
      "\u001b[0;31mKeyError\u001b[0m                                  Traceback (most recent call last)",
      "\u001b[1;32m/home/nghia_1660s/nghia_1660s_workspace/algorithms_I_princeton_university_with_coursera/Week1/assigment-percosion/percosion-python-code.ipynb Cell 8\u001b[0m line \u001b[0;36m3\n\u001b[1;32m      <a href='vscode-notebook-cell://ssh-remote%2Bnghia-1660s/home/nghia_1660s/nghia_1660s_workspace/algorithms_I_princeton_university_with_coursera/Week1/assigment-percosion/percosion-python-code.ipynb#X10sdnNjb2RlLXJlbW90ZQ%3D%3D?line=0'>1</a>\u001b[0m \u001b[39m# test class\u001b[39;00m\n\u001b[0;32m----> <a href='vscode-notebook-cell://ssh-remote%2Bnghia-1660s/home/nghia_1660s/nghia_1660s_workspace/algorithms_I_princeton_university_with_coursera/Week1/assigment-percosion/percosion-python-code.ipynb#X10sdnNjb2RlLXJlbW90ZQ%3D%3D?line=2'>3</a>\u001b[0m p \u001b[39m=\u001b[39m Percolation(n)\n\u001b[1;32m      <a href='vscode-notebook-cell://ssh-remote%2Bnghia-1660s/home/nghia_1660s/nghia_1660s_workspace/algorithms_I_princeton_university_with_coursera/Week1/assigment-percosion/percosion-python-code.ipynb#X10sdnNjb2RlLXJlbW90ZQ%3D%3D?line=3'>4</a>\u001b[0m p\u001b[39m.\u001b[39mpercolation\n",
      "\u001b[1;32m/home/nghia_1660s/nghia_1660s_workspace/algorithms_I_princeton_university_with_coursera/Week1/assigment-percosion/percosion-python-code.ipynb Cell 8\u001b[0m line \u001b[0;36m3\n\u001b[1;32m     <a href='vscode-notebook-cell://ssh-remote%2Bnghia-1660s/home/nghia_1660s/nghia_1660s_workspace/algorithms_I_princeton_university_with_coursera/Week1/assigment-percosion/percosion-python-code.ipynb#X10sdnNjb2RlLXJlbW90ZQ%3D%3D?line=33'>34</a>\u001b[0m \u001b[39mfor\u001b[39;00m i \u001b[39min\u001b[39;00m \u001b[39mrange\u001b[39m(\u001b[39m1\u001b[39m , n \u001b[39m+\u001b[39m \u001b[39m1\u001b[39m):\n\u001b[1;32m     <a href='vscode-notebook-cell://ssh-remote%2Bnghia-1660s/home/nghia_1660s/nghia_1660s_workspace/algorithms_I_princeton_university_with_coursera/Week1/assigment-percosion/percosion-python-code.ipynb#X10sdnNjb2RlLXJlbW90ZQ%3D%3D?line=34'>35</a>\u001b[0m     \u001b[39mfor\u001b[39;00m j \u001b[39min\u001b[39;00m \u001b[39mrange\u001b[39m(\u001b[39m1\u001b[39m , n \u001b[39m+\u001b[39m \u001b[39m1\u001b[39m):\n\u001b[0;32m---> <a href='vscode-notebook-cell://ssh-remote%2Bnghia-1660s/home/nghia_1660s/nghia_1660s_workspace/algorithms_I_princeton_university_with_coursera/Week1/assigment-percosion/percosion-python-code.ipynb#X10sdnNjb2RlLXJlbW90ZQ%3D%3D?line=35'>36</a>\u001b[0m         id2ij[\u001b[39mid\u001b[39;49m][\u001b[39m\"\u001b[39m\u001b[39mi\u001b[39m\u001b[39m\"\u001b[39m] \u001b[39m=\u001b[39m i\n\u001b[1;32m     <a href='vscode-notebook-cell://ssh-remote%2Bnghia-1660s/home/nghia_1660s/nghia_1660s_workspace/algorithms_I_princeton_university_with_coursera/Week1/assigment-percosion/percosion-python-code.ipynb#X10sdnNjb2RlLXJlbW90ZQ%3D%3D?line=36'>37</a>\u001b[0m         id2ij[\u001b[39mid\u001b[39m][\u001b[39m\"\u001b[39m\u001b[39mj\u001b[39m\u001b[39m\"\u001b[39m] \u001b[39m=\u001b[39m j\n",
      "\u001b[0;31mKeyError\u001b[0m: <built-in function id>"
     ]
    }
   ],
   "source": [
    "# test class\n",
    "\n",
    "p = Percolation(n)\n",
    "p.percolation"
   ]
  },
  {
   "cell_type": "code",
   "execution_count": null,
   "metadata": {},
   "outputs": [],
   "source": []
  }
 ],
 "metadata": {
  "kernelspec": {
   "display_name": "Python 3",
   "language": "python",
   "name": "python3"
  },
  "language_info": {
   "codemirror_mode": {
    "name": "ipython",
    "version": 3
   },
   "file_extension": ".py",
   "mimetype": "text/x-python",
   "name": "python",
   "nbconvert_exporter": "python",
   "pygments_lexer": "ipython3",
   "version": "3.10.12"
  }
 },
 "nbformat": 4,
 "nbformat_minor": 2
}
