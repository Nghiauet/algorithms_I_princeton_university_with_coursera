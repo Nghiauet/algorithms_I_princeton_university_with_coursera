{
 "cells": [
  {
   "cell_type": "markdown",
   "metadata": {},
   "source": [
    "# Define UnionFInd"
   ]
  },
  {
   "cell_type": "code",
   "execution_count": 1,
   "metadata": {},
   "outputs": [],
   "source": [
    "import random\n",
    "class UnionFind():\n",
    "    def __init__(self, n):\n",
    "        self.parent = list(range(n)) # init parent from 0 to n \n",
    "        \n",
    "    def find(self, x):\n",
    "        while self.parent[x] != x:\n",
    "            x = self.parent[x]\n",
    "        return x\n",
    "    def union(self, i,j):\n",
    "        # self.parent[self.find(i)] = self.find(j)\n",
    "        root_i = self.find(i)\n",
    "        root_j = self.find(j)\n",
    "        self.parent[root_i] = root_j"
   ]
  },
  {
   "cell_type": "markdown",
   "metadata": {},
   "source": [
    "# Define percolison class"
   ]
  },
  {
   "cell_type": "code",
   "execution_count": 2,
   "metadata": {},
   "outputs": [],
   "source": [
    "import numpy as np \n",
    "class Percolation():\n",
    "    def __init__(self,n):\n",
    "        # define percolation\n",
    "        self.percolation = [[0]*n for _ in range(n)]\n",
    "        self.uf  = UnionFind(n*n + 2)\n",
    "        # print(\"parent :\",self.uf.parent)\n",
    "        self.n  = n\n",
    "        self.virPoint1 = 0\n",
    "        self.virPoint2 = n*n + 1\n",
    "        #virtural point is 0 and n+1\n",
    "        for j in range(n):\n",
    "            self.uf.union(self.virPoint1 , self.idOf(0,j))\n",
    "            self.uf.union(self.virPoint2 , self.idOf(n-1,j))\n",
    "        self.id_to_coord = {}\n",
    "        for i in range(n):\n",
    "            for j in range(n):\n",
    "                id = self.idOf(i,j)\n",
    "                self.id_to_coord[id] = (i,j)\n",
    "\n",
    "    def idOf(self, i , j):\n",
    "        return (self.n * i) + (j +  1) \n",
    "        \n",
    "    def open(self,i,j):\n",
    "        n  = self.n\n",
    "        if i> 0 and self.isOpen(i-1,j):\n",
    "            self.uf.union(self.idOf(i,j),self.idOf(i-1,j))\n",
    "        if j> 0 and self.isOpen(i,j-1):\n",
    "            self.uf.union(self.idOf(i,j),self.idOf(i,j-1))\n",
    "        if j< n-1 and self.isOpen(i,j+1):\n",
    "            self.uf.union(self.idOf(i,j),self.idOf(i,j+1))\n",
    "        if i< n-1 and  self.isOpen(i+1,j):\n",
    "            self.uf.union(self.idOf(i,j),self.idOf(i+1,j))\n",
    "        self.percolation[i][j] = 1\n",
    "        \n",
    "    def isOpen(self,i,j):\n",
    "        return True if self.percolation[i][j] == 1 else False\n",
    "    \n",
    "    def isFull(self,i,j):\n",
    "        if self.uf.find(self.idOf(i,j)) == self.uf.find(0):\n",
    "            return True\n",
    "        else: \n",
    "            return False\n",
    "        \n",
    "    def numberOfOpenSites(self):\n",
    "        total_sum = sum(sum(row) for row in self.percolation)\n",
    "        return int(total_sum)\n",
    "    def percolates(self):\n",
    "        n = self.n\n",
    "        if self.uf.find(self.virPoint1) == self.uf.find(self.virPoint2):\n",
    "            return True\n",
    "        else:\n",
    "            return False \n"
   ]
  },
  {
   "cell_type": "markdown",
   "metadata": {},
   "source": [
    "# Class percolationStats"
   ]
  },
  {
   "cell_type": "code",
   "execution_count": 3,
   "metadata": {},
   "outputs": [],
   "source": [
    "class PercolationStats():\n",
    "    def __init__(self,n,trials):\n",
    "        \n",
    "        self.trials = trials\n",
    "        self.results_list = []\n",
    "        self.mean_value = -1\n",
    "        self.n = n\n",
    "        for k in range(trials):\n",
    "            self.per = Percolation(n)\n",
    "            # print(\"k: \", k)\n",
    "            while self.per.percolates()==False:\n",
    "                self.open_a_size()\n",
    "            result = (self.per.numberOfOpenSites()) /(n*n)\n",
    "            self.results_list.append(result)\n",
    "                        \n",
    "    def open_a_size(self):\n",
    "        n = self.n\n",
    "        index = random.randint(1 , (n*n))\n",
    "        i , j = self.per.id_to_coord[index]\n",
    "        \n",
    "        while self.per.isOpen(i,j):\n",
    "            index = random.randint(1 , n*n)\n",
    "            i , j = self.per.id_to_coord[index]\n",
    "        self.per.open(i,j)\n",
    "                                     \n",
    "    def mean(self):\n",
    "        return sum(self.results_list) / (len(self.results_list))\n",
    "    \n",
    "    def stddev(self):\n",
    "        mean_value = self.mean()\n",
    "        variance = sum((x-mean_value)**2 for x in self.results_list) / (self.trials -1)\n",
    "        std_dev = variance**0.5 \n",
    "        return std_dev\n",
    "    \n",
    "    def confidenceLo(self):\n",
    "        mean_value = self.mean()\n",
    "        stddev = self.stddev()\n",
    "        return mean_value - (1.96*stddev / (self.trials **0.5))\n",
    "        \n",
    "    def confidenceHi(self):\n",
    "        mean_value = self.mean()\n",
    "        stddev = self.stddev()\n",
    "        return mean_value + (1.96*stddev / (self.trials **0.5))\n",
    "    "
   ]
  },
  {
   "cell_type": "code",
   "execution_count": 4,
   "metadata": {},
   "outputs": [
    {
     "name": "stdout",
     "output_type": "stream",
     "text": [
      "mean :  0.5913429999999998\n",
      "stddev:  0.016490513520836903\n",
      "95% confidence interval: [0.5890575314285768 0.5936284685714229]\n"
     ]
    }
   ],
   "source": [
    "trial = PercolationStats(100,200)\n",
    "print(\"mean : \",trial.mean())\n",
    "print(\"stddev: \", trial.stddev())\n",
    "print(f\"95% confidence interval: [{trial.confidenceLo()} {trial.confidenceHi()}]\")"
   ]
  }
 ],
 "metadata": {
  "kernelspec": {
   "display_name": "Python 3",
   "language": "python",
   "name": "python3"
  },
  "language_info": {
   "codemirror_mode": {
    "name": "ipython",
    "version": 3
   },
   "file_extension": ".py",
   "mimetype": "text/x-python",
   "name": "python",
   "nbconvert_exporter": "python",
   "pygments_lexer": "ipython3",
   "version": "3.8.10"
  }
 },
 "nbformat": 4,
 "nbformat_minor": 2
}
