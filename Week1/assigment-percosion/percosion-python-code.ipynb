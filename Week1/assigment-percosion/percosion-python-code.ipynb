{
 "cells": [
  {
   "cell_type": "code",
   "execution_count": 21,
   "metadata": {},
   "outputs": [],
   "source": [
    "# input n and T\n",
    "# The gird n*n and run T times \n",
    "# run T the number run experiment\n",
    "# p the probability of open the site"
   ]
  },
  {
   "cell_type": "markdown",
   "metadata": {},
   "source": [
    "# Define UnionFInd"
   ]
  },
  {
   "cell_type": "code",
   "execution_count": 22,
   "metadata": {},
   "outputs": [],
   "source": [
    "class UnionFind():\n",
    "    def __init__(self, n):\n",
    "        self.parent = list(range(n)) # init parent from 0 to n \n",
    "        \n",
    "    def find(self, x):\n",
    "        while self.parent[x] != x:\n",
    "            x = self.parent[x]\n",
    "        return x\n",
    "    def union(self, i,j):\n",
    "        # self.parent[self.find(i)] = self.find(j)\n",
    "        root_i = self.find(i)\n",
    "        root_j = self.find(j)\n",
    "        if root_i < root_j:\n",
    "            self.parent[root_j] = root_i\n",
    "        else:  self.parent[root_i] = root_j"
   ]
  },
  {
   "cell_type": "markdown",
   "metadata": {},
   "source": [
    "# Define percolison class"
   ]
  },
  {
   "cell_type": "code",
   "execution_count": 23,
   "metadata": {},
   "outputs": [],
   "source": [
    "import numpy as np \n",
    "class Percolation():\n",
    "    def __init__(self,n):\n",
    "        # define percolation\n",
    "        self.percolation = [[0]*n for _ in range(n)]\n",
    "        self.uf  = UnionFind(n*n + 2)\n",
    "        # print(\"parent :\",self.uf.parent)\n",
    "        self.n  = n\n",
    "        self.vir_point_1 = 0\n",
    "        self.vir_point_2 = n*n + 1\n",
    "        #virtural point is 0 and n+1\n",
    "        for j in range(n):\n",
    "            self.uf.union(self.vir_point_1 , self.id_of_ij(0,j))\n",
    "            self.uf.union(self.vir_point_2 , self.id_of_ij(n-1,j))\n",
    "        self.id_to_coord = {}\n",
    "        for i in range(n):\n",
    "            for j in range(n):\n",
    "                id = self.id_of_ij(i,j)\n",
    "                self.id_to_coord[id] = (i,j)\n",
    "\n",
    "    def id_of_ij(self, i , j):\n",
    "        return (self.n * i) + (j +  1) \n",
    "        \n",
    "    def open(self,i,j):\n",
    "        n  = self.n\n",
    "        if i> 0 and self.isOpen(i-1,j):\n",
    "            self.uf.union(self.id_of_ij(i,j),self.id_of_ij(i-1,j))\n",
    "        if j> 0 and self.isOpen(i,j-1):\n",
    "            self.uf.union(self.id_of_ij(i,j),self.id_of_ij(i,j-1))\n",
    "        if j< n-1 and self.isOpen(i,j+1):\n",
    "            self.uf.union(self.id_of_ij(i,j),self.id_of_ij(i,j+1))\n",
    "        if i< n-1 and  self.isOpen(i+1,j):\n",
    "            self.uf.union(self.id_of_ij(i,j),self.id_of_ij(i+1,j))\n",
    "        self.percolation[i][j] = 1\n",
    "        \n",
    "    def isOpen(self,i,j):\n",
    "        return True if self.percolation[i][j] == 1 else False\n",
    "    \n",
    "    def isFull(self,i,j):\n",
    "        if self.uf.find(self.id_of_ij(i,j)) == self.uf.find(0):\n",
    "            return True\n",
    "        else: \n",
    "            return False\n",
    "        \n",
    "    def numberOfOpenSites(self):\n",
    "        total_sum = sum(sum(row) for row in self.percolation)\n",
    "        return int(total_sum)\n",
    "    def percolates(self):\n",
    "        n = self.n\n",
    "        if self.uf.find(self.vir_point_1) == self.uf.find(self.vir_point_2):\n",
    "            return True\n",
    "        else:\n",
    "            return False \n"
   ]
  },
  {
   "cell_type": "code",
   "execution_count": 24,
   "metadata": {},
   "outputs": [],
   "source": [
    "import random\n",
    "# # test class\n",
    "# n = 3\n",
    "# per = Percolation(n)\n",
    "# # random assign 1 to array with montecalo method p\n",
    "# # import random\n",
    "# p = 0.5\n",
    "# for i in range(n):\n",
    "#     for j in range(n):\n",
    "#         per.percolation[i][j] = random.choices([0, 1], weights=[1 - p, p], k=1)[0]\n",
    "#         if per.percolation[i][j] == 1:\n",
    "#             per.open(i,j)\n",
    "# for row in per.percolation:\n",
    "#     print(row)\n",
    "# print(\"reference\")\n",
    "# dem = 1\n",
    "# for row in per.percolation:\n",
    "#     row_2 = [dem+i for i in range(len(row))]\n",
    "#     print(row_2)\n",
    "#     dem = dem +len(row)\n",
    "# print(\"ff percolates :\" ,per.percolates())\n",
    "# print(\"parent: \",per.uf.parent)\n",
    "# print(\"number of open site\", per.numberOfOpenSites())"
   ]
  },
  {
   "cell_type": "markdown",
   "metadata": {},
   "source": [
    "# Class percolationStats"
   ]
  },
  {
   "cell_type": "code",
   "execution_count": 25,
   "metadata": {},
   "outputs": [],
   "source": [
    "class PercolationStats():\n",
    "    def __init__(self,n,trials):\n",
    "        \n",
    "        self.trials = trials\n",
    "        self.results_list = []\n",
    "        self.mean_value = -1\n",
    "        self.n = n\n",
    "        for k in range(trials):\n",
    "            self.per = Percolation(n)\n",
    "            # print(\"k: \", k)\n",
    "            while self.per.percolates()==False:\n",
    "                self.open_a_size()\n",
    "            result = (self.per.numberOfOpenSites()) /(n*n)\n",
    "            self.results_list.append(result)\n",
    "                        \n",
    "    def open_a_size(self):\n",
    "        n = self.n\n",
    "        index = random.randint(1 , (n*n))\n",
    "        i , j = self.per.id_to_coord[index]\n",
    "        \n",
    "        while self.per.isOpen(i,j):\n",
    "            index = random.randint(1 , n*n)\n",
    "            i , j = self.per.id_to_coord[index]\n",
    "        self.per.open(i,j)\n",
    "                                     \n",
    "    def mean(self):\n",
    "        return sum(self.results_list) / (len(self.results_list))\n",
    "    \n",
    "    def stddev(self):\n",
    "        mean_value = self.mean()\n",
    "        variance = sum((x-mean_value)**2 for x in self.results_list) / (self.trials -1)\n",
    "        std_dev = variance**0.5 \n",
    "        return std_dev\n",
    "    \n",
    "    def confidenceLo(self):\n",
    "        mean_value = self.mean()\n",
    "        stddev = self.stddev()\n",
    "        return mean_value - (1.96*stddev / (self.trials **0.5))\n",
    "        \n",
    "    def confidenceHi(self):\n",
    "        mean_value = self.mean()\n",
    "        stddev = self.stddev()\n",
    "        return mean_value + (1.96*stddev / (self.trials **0.5))\n",
    "    "
   ]
  },
  {
   "cell_type": "code",
   "execution_count": 29,
   "metadata": {},
   "outputs": [
    {
     "name": "stdout",
     "output_type": "stream",
     "text": [
      "mean :  0.5925224999999998\n",
      "stddev:  0.015449689585601944\n",
      "95% confidence interval: [0.5903812822664514 0.5946637177335483]\n"
     ]
    }
   ],
   "source": [
    "trial = PercolationStats(100,200)\n",
    "print(\"mean : \",trial.mean())\n",
    "print(\"stddev: \", trial.stddev())\n",
    "print(f\"95% confidence interval: [{trial.confidenceLo()} {trial.confidenceHi()}]\")"
   ]
  }
 ],
 "metadata": {
  "kernelspec": {
   "display_name": "Python 3",
   "language": "python",
   "name": "python3"
  },
  "language_info": {
   "codemirror_mode": {
    "name": "ipython",
    "version": 3
   },
   "file_extension": ".py",
   "mimetype": "text/x-python",
   "name": "python",
   "nbconvert_exporter": "python",
   "pygments_lexer": "ipython3",
   "version": "3.10.12"
  }
 },
 "nbformat": 4,
 "nbformat_minor": 2
}
