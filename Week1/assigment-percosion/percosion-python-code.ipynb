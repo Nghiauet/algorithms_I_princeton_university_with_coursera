{
 "cells": [
  {
   "cell_type": "code",
   "execution_count": 10,
   "metadata": {},
   "outputs": [],
   "source": [
    "# input n and T\n",
    "# The gird n*n and run T times \n",
    "# run T the number run experiment\n",
    "# p the probability of open the site\n"
   ]
  },
  {
   "cell_type": "code",
   "execution_count": 11,
   "metadata": {},
   "outputs": [],
   "source": [
    "class UnionFind():\n",
    "    def __init__(self, n):\n",
    "        self.parent = list(range(n)) # init parent from 0 to n \n",
    "        \n",
    "    def find(self, x):\n",
    "        while self.parent[x] != x:\n",
    "            x = self.parent[x]\n",
    "        return x\n",
    "    def union(self, i,j):\n",
    "        self.parent[i] = self.find(j)"
   ]
  },
  {
   "cell_type": "code",
   "execution_count": 12,
   "metadata": {},
   "outputs": [],
   "source": [
    "# Initialize the UnionFind data structure with 10 elements\n",
    "n = 10\n",
    "uf = UnionFind(n)\n",
    "\n",
    "# Perform some union operations\n",
    "uf.union(1, 2)\n",
    "uf.union(2, 4)\n",
    "# Perform another union operation\n",
    "uf.union(5, 6)\n",
    "uf.union(4, 5)"
   ]
  },
  {
   "cell_type": "code",
   "execution_count": 17,
   "metadata": {},
   "outputs": [
    {
     "name": "stdout",
     "output_type": "stream",
     "text": [
      "find of 2 6\n",
      "find of 5 6\n",
      "[0, 2, 4, 3, 6, 6, 6, 7, 8, 9]\n"
     ]
    }
   ],
   "source": [
    "# check some data\n",
    "print(\"find of 2\", uf.find(2))\n",
    "print(\"find of 5\", uf.find(5))\n",
    "print(uf.parent)"
   ]
  },
  {
   "cell_type": "code",
   "execution_count": null,
   "metadata": {},
   "outputs": [],
   "source": []
  }
 ],
 "metadata": {
  "kernelspec": {
   "display_name": "Python 3",
   "language": "python",
   "name": "python3"
  },
  "language_info": {
   "codemirror_mode": {
    "name": "ipython",
    "version": 3
   },
   "file_extension": ".py",
   "mimetype": "text/x-python",
   "name": "python",
   "nbconvert_exporter": "python",
   "pygments_lexer": "ipython3",
   "version": "3.10.12"
  }
 },
 "nbformat": 4,
 "nbformat_minor": 2
}
