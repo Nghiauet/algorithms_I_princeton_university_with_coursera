{
 "cells": [
  {
   "cell_type": "code",
   "execution_count": 185,
   "metadata": {},
   "outputs": [],
   "source": [
    "# input n and T\n",
    "# The gird n*n and run T times \n",
    "# run T the number run experiment\n",
    "# p the probability of open the site\n"
   ]
  },
  {
   "cell_type": "markdown",
   "metadata": {},
   "source": [
    "# Define UnionFInd"
   ]
  },
  {
   "cell_type": "code",
   "execution_count": 186,
   "metadata": {},
   "outputs": [],
   "source": [
    "class UnionFind():\n",
    "    def __init__(self, n):\n",
    "        self.parent = list(range(n)) # init parent from 0 to n \n",
    "        \n",
    "    def find(self, x):\n",
    "        while self.parent[x] != x:\n",
    "            x = self.parent[x]\n",
    "        return x\n",
    "    def union(self, i,j):\n",
    "        self.parent[self.find(i)] = self.find(j)"
   ]
  },
  {
   "cell_type": "code",
   "execution_count": 187,
   "metadata": {},
   "outputs": [],
   "source": [
    "# Initialize the UnionFind data structure with 10 elements\n",
    "n = 10\n",
    "uf = UnionFind(n)\n",
    "\n",
    "# Perform some union operations\n",
    "uf.union(1, 2)\n",
    "uf.union(2, 4)\n",
    "# Perform another union operation\n",
    "uf.union(5, 6)\n",
    "uf.union(4, 5)"
   ]
  },
  {
   "cell_type": "code",
   "execution_count": 188,
   "metadata": {},
   "outputs": [
    {
     "name": "stdout",
     "output_type": "stream",
     "text": [
      "find of 2 6\n",
      "find of 5 6\n",
      "[0, 2, 4, 3, 6, 6, 6, 7, 8, 9]\n"
     ]
    }
   ],
   "source": [
    "# check some data\n",
    "print(\"find of 2\", uf.find(2))\n",
    "print(\"find of 5\", uf.find(5))\n",
    "print(uf.parent)"
   ]
  },
  {
   "cell_type": "markdown",
   "metadata": {},
   "source": [
    "# Define percolison class"
   ]
  },
  {
   "cell_type": "code",
   "execution_count": 189,
   "metadata": {},
   "outputs": [],
   "source": [
    "# public class Percolation {\n",
    "\n",
    "#     // creates n-by-n grid, with all sites initially blocked\n",
    "#     public Percolation(int n)\n",
    "\n",
    "#     // opens the site (row, col) if it is not open already\n",
    "#     public void open(int row, int col)\n",
    "\n",
    "#     // is the site (row, col) open?\n",
    "#     public boolean isOpen(int row, int col)\n",
    "\n",
    "#     // is the site (row, col) full?\n",
    "#     public boolean isFull(int row, int col)\n",
    "\n",
    "#     // returns the number of open sites\n",
    "#     public int numberOfOpenSites()\n",
    "\n",
    "#     // does the system percolate?\n",
    "#     public boolean percolates()\n",
    "\n",
    "#     // test client (optional)\n",
    "#     public static void main(String[] args)\n",
    "# }\n",
    "import numpy as np \n",
    "class Percolation():\n",
    "    def __init__(self,n):\n",
    "        # define percolation\n",
    "        self.percolation = [[0]*n for _ in range(n)]\n",
    "        self.uf  = UnionFind(n*n + 2)\n",
    "        self.n  = n\n",
    "        # the table begin from i , j = 0 , 0  with id =0 to i , j = n n with id = n * n\n",
    "        # id = n* i + (j +1 )\n",
    "        # id2ij = {}\n",
    "        # ij2id = {}\n",
    "        # for i in range(1 , n + 1):\n",
    "        #     for j in range(1 , n + 1):\n",
    "        #         id2ij[id][\"i\"] = i\n",
    "        #         id2ij[id][\"j\"] = j\n",
    "        \n",
    "        self.vir_point_1 = 0\n",
    "        self.vir_point_2 = n + 1\n",
    "        #virtural point is 0 and n+1\n",
    "        for j in range(n):\n",
    "            # print(\"id of ij\",self.id_of_ij(0,j) )\n",
    "            self.uf.union(self.vir_point_1 , self.id_of_ij(0,j))\n",
    "            self.uf.union(self.vir_point_2 , self.id_of_ij(n-1,j))\n",
    "\n",
    "\n",
    "    def id_of_ij(self, i , j):\n",
    "        return (self.n * i) + (j +  1) \n",
    "\n",
    "\n",
    "        \n",
    "    def open(self,i,j):\n",
    "        self.percolation[i][j] = 1\n",
    "        \n",
    "    def isOpen(self,i,j):\n",
    "        return True if self.percolation[i][j] == 1 else False\n",
    "    \n",
    "    def isFull(self,i,j):\n",
    "        if self.uf.find(self.id_of_ij(i,j)) == self.uf.find(0):\n",
    "            return True\n",
    "        else: \n",
    "            return False\n",
    "    def numberOfOpenSites(self):\n",
    "        total_sum = sum(sum(row) for row in self.percolation)\n",
    "        return total_sum\n",
    "    def percolates(self):\n",
    "        if self.uf.find(self.vir_point_1) == self.uf.find(self.vir_point_2):\n",
    "            return True\n",
    "        else:\n",
    "            return False \n"
   ]
  },
  {
   "cell_type": "code",
   "execution_count": 190,
   "metadata": {},
   "outputs": [
    {
     "data": {
      "text/plain": [
       "[[0, 1, 1, 1, 1],\n",
       " [0, 0, 1, 1, 0],\n",
       " [1, 1, 0, 1, 0],\n",
       " [0, 1, 0, 1, 1],\n",
       " [0, 0, 1, 0, 0]]"
      ]
     },
     "execution_count": 190,
     "metadata": {},
     "output_type": "execute_result"
    }
   ],
   "source": [
    "import random\n",
    "# test class\n",
    "n = 5\n",
    "per = Percolation(n)\n",
    "# random assign 1 to array with montecalo method p\n",
    "# import random\n",
    "p = 0.6\n",
    "for i in range(n):\n",
    "    for j in range(n):\n",
    "        # print()\n",
    "        per.percolation[i][j] = random.choices([0, 1], weights=[1 - p, p], k=1)[0]\n",
    "per.percolation"
   ]
  },
  {
   "cell_type": "code",
   "execution_count": 191,
   "metadata": {},
   "outputs": [
    {
     "name": "stdout",
     "output_type": "stream",
     "text": [
      "[0, 1, 2, 3, 4, 5, 6, 7, 8, 9, 10, 11, 12, 13, 14, 15, 16, 17, 18, 19, 20, 21, 22, 23, 24, 25, 26]\n",
      "[1, 2, 3, 4, 5, 5, 21, 7, 8, 9, 10, 11, 12, 13, 14, 15, 16, 17, 18, 19, 20, 22, 23, 24, 25, 25, 26]\n"
     ]
    }
   ],
   "source": [
    "print(list(range(n*n+2)))\n",
    "print(per.uf.parent)"
   ]
  },
  {
   "cell_type": "code",
   "execution_count": 193,
   "metadata": {},
   "outputs": [
    {
     "name": "stdout",
     "output_type": "stream",
     "text": [
      "17\n",
      "True\n",
      "17\n",
      "5\n"
     ]
    }
   ],
   "source": [
    "print(per.id_of_ij(3,1))\n",
    "print(per.isFull(0,1))\n",
    "\n",
    "print(per.uf.find(17))\n",
    "print(per.uf.find(0))"
   ]
  },
  {
   "cell_type": "code",
   "execution_count": null,
   "metadata": {},
   "outputs": [],
   "source": []
  },
  {
   "cell_type": "code",
   "execution_count": null,
   "metadata": {},
   "outputs": [],
   "source": []
  },
  {
   "cell_type": "code",
   "execution_count": null,
   "metadata": {},
   "outputs": [],
   "source": []
  }
 ],
 "metadata": {
  "kernelspec": {
   "display_name": "Python 3",
   "language": "python",
   "name": "python3"
  },
  "language_info": {
   "codemirror_mode": {
    "name": "ipython",
    "version": 3
   },
   "file_extension": ".py",
   "mimetype": "text/x-python",
   "name": "python",
   "nbconvert_exporter": "python",
   "pygments_lexer": "ipython3",
   "version": "3.10.12"
  }
 },
 "nbformat": 4,
 "nbformat_minor": 2
}
