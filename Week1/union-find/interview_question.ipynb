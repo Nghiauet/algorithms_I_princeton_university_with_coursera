{
 "cells": [
  {
   "cell_type": "markdown",
   "metadata": {},
   "source": [
    "# Question 1 : Social Network Connectivity "
   ]
  },
  {
   "cell_type": "code",
   "execution_count": 2,
   "metadata": {},
   "outputs": [],
   "source": [
    "class UnionFind:\n",
    "    def __init__(self, n):\n",
    "        self.parent = list(range(n))\n",
    "        self.size = [1] * n\n",
    "        self.max = list(range(n))\n",
    "\n",
    "    def find(self, p):\n",
    "        while p != self.parent[p]:\n",
    "            self.parent[p] = self.parent[self.parent[p]]\n",
    "            p = self.parent[p]\n",
    "        return p\n",
    "    def union(self, p, q):\n",
    "        root_p = self.find(p)\n",
    "        root_q = self.find(q)\n",
    "        if root_p == root_q:\n",
    "            return\n",
    "        if self.size[root_p] < self.size[root_q]:\n",
    "            self.parent[root_p] = root_q\n",
    "            self.size[root_q] += self.size[root_p]\n",
    "            self.max[root_p] = max(self.max[root_p], self.max[root_q])\n",
    "        else:\n",
    "            self.parent[root_q] = root_p\n",
    "            self.size[root_p] += self.size[root_q]\n",
    "            self.max[root_p] = max(self.max[root_p], self.max[root_q])\n",
    "# class UnionFind_max_2:\n",
    "#     def __init__(self, n):\n",
    "#         self.parent = list(range(n))\n",
    "\n",
    "#     def find(self, p):\n",
    "#         while p != self.parent[p]:\n",
    "#             p = self.parent[p]\n",
    "#         return p\n",
    "\n",
    "#     def union(self, p, q):\n",
    "#         root_p = self.find(p)\n",
    "#         root_q = self.find(q)\n",
    "#         if root_p == root_q:\n",
    "#             return\n",
    "#         if root_p < root_q:\n",
    "#             self.parent[root_p] = root_q\n",
    "            \n",
    "#         else:\n",
    "#             self.parent[root_q] = root_p\n",
    "\n",
    "        \n"
   ]
  },
  {
   "cell_type": "code",
   "execution_count": 3,
   "metadata": {},
   "outputs": [],
   "source": [
    "# Initialize the UnionFind data structure with 10 elements\n",
    "n = 10\n",
    "uf = UnionFind(n)\n",
    "\n",
    "# Perform some union operations\n",
    "uf.union(1, 2)\n",
    "uf.union(2, 4)\n",
    "# Perform another union operation\n",
    "uf.union(5, 6)\n",
    "uf.union(4, 5)"
   ]
  },
  {
   "cell_type": "code",
   "execution_count": 4,
   "metadata": {},
   "outputs": [
    {
     "name": "stdout",
     "output_type": "stream",
     "text": [
      "n :      [0, 1, 2, 3, 4, 5, 6, 7, 8, 9]\n",
      "parent:  [0, 1, 1, 3, 1, 1, 5, 7, 8, 9]\n",
      "max:     [0, 6, 2, 3, 4, 6, 6, 7, 8, 9]\n",
      "find(1):  6\n",
      "find(2):  6\n",
      "find(3):  3\n",
      "find(4):  6\n",
      "find(5):  6\n",
      "find(6):  6\n",
      "find(7):  7\n",
      "find(8):  8\n",
      "find(9):  9\n"
     ]
    }
   ],
   "source": [
    "print(\"n :     \", [i for i in range(n)])\n",
    "# print all uf elements\n",
    "print(\"parent: \", uf.parent)\n",
    "#print max  \n",
    "print(\"max:    \", uf.max)\n",
    "\n",
    "print(\"find(1): \", uf.max[uf.find(1)])\n",
    "print(\"find(2): \", uf.max[uf.find(2)])\n",
    "print(\"find(3): \", uf.max[uf.find(3)])\n",
    "print(\"find(4): \", uf.max[uf.find(4)])\n",
    "print(\"find(5): \", uf.max[uf.find(5)])\n",
    "print(\"find(6): \", uf.max[uf.find(6)])\n",
    "print(\"find(7): \", uf.max[uf.find(7)])\n",
    "print(\"find(8): \", uf.max[uf.find(8)])\n",
    "print(\"find(9): \", uf.max[uf.find(9)])\n"
   ]
  },
  {
   "cell_type": "code",
   "execution_count": 5,
   "metadata": {},
   "outputs": [
    {
     "name": "stdout",
     "output_type": "stream",
     "text": [
      "find 2 :  1\n"
     ]
    }
   ],
   "source": [
    "print(\"find 2 : \", uf.find(2))"
   ]
  },
  {
   "cell_type": "markdown",
   "metadata": {},
   "source": [
    "# Question 2: find max"
   ]
  },
  {
   "cell_type": "code",
   "execution_count": 6,
   "metadata": {},
   "outputs": [],
   "source": [
    "class UnionFind:\n",
    "    def __init__(self, n):\n",
    "        self.parent = list(range(n))\n",
    "        self.size = [1] * n\n",
    "        self.max = list(range(n))\n",
    "\n",
    "    def find(self, p):\n",
    "        while p != self.parent[p]:\n",
    "            self.parent[p] = self.parent[self.parent[p]]\n",
    "            p = self.parent[p]\n",
    "        return p\n",
    "    def find_max(self, p):\n",
    "        return self.max[self.find(p)]\n",
    "    def union(self, p, q):\n",
    "        root_p = self.find(p)\n",
    "        root_q = self.find(q)\n",
    "        if root_p == root_q:\n",
    "            return\n",
    "        if self.size[root_p] < self.size[root_q]:\n",
    "            self.parent[root_p] = root_q\n",
    "            self.size[root_q] += self.size[root_p]\n",
    "            self.max[root_p] = max(self.max[root_p], self.max[root_q])\n",
    "        else:\n",
    "            self.parent[root_q] = root_p\n",
    "            self.size[root_p] += self.size[root_q]\n",
    "            self.max[root_p] = max(self.max[root_p], self.max[root_q])"
   ]
  },
  {
   "cell_type": "markdown",
   "metadata": {},
   "source": [
    "# question 3: remove and susscessor"
   ]
  },
  {
   "cell_type": "code",
   "execution_count": 14,
   "metadata": {},
   "outputs": [],
   "source": [
    "class SuccessorWithDelete:\n",
    "    def __init__(self, n):\n",
    "        self.uf = UnionFind(n+1)\n",
    "        self.removed = [False] * n\n",
    "\n",
    "    def remove(self, x):\n",
    "        return self.uf.union(x, x+1)\n",
    "\n",
    "    def successor(self, x):\n",
    "        return self.uf.find(x)"
   ]
  },
  {
   "cell_type": "code",
   "execution_count": 22,
   "metadata": {},
   "outputs": [
    {
     "name": "stdout",
     "output_type": "stream",
     "text": [
      "10\n",
      "[0, 1, 2, 3, 4, 5, 6, 7, 8, 11, 11, 11, 11, 11, 13, 15, 15, 17, 18, 19, 20, 21, 22, 23, 24, 25, 26, 27, 28, 29, 30, 31, 32, 33, 34, 35, 36, 37, 38, 39, 40, 41, 42, 43, 44, 45, 46, 47, 48, 49, 50]\n",
      "8\n",
      "11\n",
      "11\n",
      "[0, 1, 2, 3, 4, 5, 6, 7, 8, 11, 11, 11, 11, 11, 13, 15, 15, 17, 18, 19, 20, 21, 22, 23, 24, 25, 26, 27, 28, 29, 30, 31, 32, 33, 34, 35, 36, 37, 38, 39, 40, 41, 42, 43, 44, 45, 46, 47, 48, 49, 50]\n"
     ]
    }
   ],
   "source": [
    "# Example usage:\n",
    "N = 50\n",
    "swd = SuccessorWithDelete(N)\n",
    "print(swd.successor(10))\n",
    "swd.remove(11)\n",
    "swd.remove(13)\n",
    "swd.remove(12)\n",
    "swd.remove(10)\n",
    "swd.remove(9)\n",
    "swd.remove(15)\n",
    "print(swd.uf.parent)\n",
    "print(swd.successor(8))\n",
    "print(swd.successor(9))\n",
    "print(swd.successor(10))\n",
    "print(swd.uf.parent)"
   ]
  },
  {
   "cell_type": "code",
   "execution_count": 17,
   "metadata": {},
   "outputs": [
    {
     "data": {
      "text/plain": [
       "[0,\n",
       " 1,\n",
       " 2,\n",
       " 3,\n",
       " 4,\n",
       " 5,\n",
       " 6,\n",
       " 7,\n",
       " 8,\n",
       " 11,\n",
       " 11,\n",
       " 11,\n",
       " 11,\n",
       " 11,\n",
       " 13,\n",
       " 15,\n",
       " 15,\n",
       " 17,\n",
       " 18,\n",
       " 19,\n",
       " 20,\n",
       " 21,\n",
       " 22,\n",
       " 23,\n",
       " 24,\n",
       " 25,\n",
       " 26,\n",
       " 27,\n",
       " 28,\n",
       " 29,\n",
       " 30,\n",
       " 31,\n",
       " 32,\n",
       " 33,\n",
       " 34,\n",
       " 35,\n",
       " 36,\n",
       " 37,\n",
       " 38,\n",
       " 39,\n",
       " 40,\n",
       " 41,\n",
       " 42,\n",
       " 43,\n",
       " 44,\n",
       " 45,\n",
       " 46,\n",
       " 47,\n",
       " 48,\n",
       " 49,\n",
       " 50]"
      ]
     },
     "execution_count": 17,
     "metadata": {},
     "output_type": "execute_result"
    }
   ],
   "source": []
  },
  {
   "cell_type": "code",
   "execution_count": null,
   "metadata": {},
   "outputs": [],
   "source": []
  }
 ],
 "metadata": {
  "kernelspec": {
   "display_name": "Python 3",
   "language": "python",
   "name": "python3"
  },
  "language_info": {
   "codemirror_mode": {
    "name": "ipython",
    "version": 3
   },
   "file_extension": ".py",
   "mimetype": "text/x-python",
   "name": "python",
   "nbconvert_exporter": "python",
   "pygments_lexer": "ipython3",
   "version": "3.10.12"
  }
 },
 "nbformat": 4,
 "nbformat_minor": 2
}
