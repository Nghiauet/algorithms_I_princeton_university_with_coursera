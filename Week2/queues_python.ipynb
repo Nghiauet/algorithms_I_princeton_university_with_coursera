{
 "cells": [
  {
   "cell_type": "markdown",
   "metadata": {},
   "source": [
    "public class Deque<Item> implements Iterable<Item> {\n",
    "\n",
    "    // construct an empty deque\n",
    "    public Deque()\n",
    "\n",
    "    // is the deque empty?\n",
    "    public boolean isEmpty()\n",
    "\n",
    "    // return the number of items on the deque\n",
    "    public int size()\n",
    "\n",
    "    // add the item to the front\n",
    "    public void addFirst(Item item)\n",
    "\n",
    "    // add the item to the back\n",
    "    public void addLast(Item item)\n",
    "\n",
    "    // remove and return the item from the front\n",
    "    public Item removeFirst()\n",
    "\n",
    "    // remove and return the item from the back\n",
    "    public Item removeLast()\n",
    "\n",
    "    // return an iterator over items in order from front to back\n",
    "    public Iterator<Item> iterator()\n",
    "\n",
    "    // unit testing (required)\n",
    "    public static void main(String[] args)\n",
    "\n",
    "}"
   ]
  },
  {
   "cell_type": "markdown",
   "metadata": {},
   "source": [
    "# Implement Linkedlist python"
   ]
  },
  {
   "cell_type": "code",
   "execution_count": 87,
   "metadata": {},
   "outputs": [],
   "source": [
    "class Node:\n",
    "    def __init__(self,data):\n",
    "        self.data = data \n",
    "        self.next = None"
   ]
  },
  {
   "cell_type": "code",
   "execution_count": 139,
   "metadata": {},
   "outputs": [],
   "source": [
    "class Queue():\n",
    "    def __init__(self):\n",
    "        self.top = self.bottom = None \n",
    "    def _isEmpty(self):\n",
    "        if self.top == None:\n",
    "            return True\n",
    "        return False\n",
    "    def EnQueue(self,data):\n",
    "        temp = Node(data)\n",
    "        if self._isEmpty():\n",
    "            self.top = self.bottom = temp\n",
    "            return \n",
    "        self.top.next = temp \n",
    "        self.top = temp # shift pointer to the right\n",
    "        \n",
    "    def DeQueue(self):\n",
    "        if self._isEmpty():\n",
    "            return\n",
    "        temp = self.bottom\n",
    "        self.bottom = temp.next\n",
    "        print(f\"pop {temp.data}\")\n",
    "        if self.bottom == None:\n",
    "            self.top = None "
   ]
  },
  {
   "cell_type": "code",
   "execution_count": 140,
   "metadata": {},
   "outputs": [
    {
     "name": "stdout",
     "output_type": "stream",
     "text": [
      "pop 10\n",
      "pop 20\n",
      "pop 25\n",
      "pop 30\n",
      "pop 40\n",
      "Queue Front : 55\n",
      "Queue Rear : 50\n"
     ]
    }
   ],
   "source": [
    "# Driver Code\n",
    "if __name__ == '__main__':\n",
    "    q = Queue()\n",
    "    q.EnQueue(10)\n",
    "    q.EnQueue(20)\n",
    "    q.EnQueue(25)\n",
    "    q.DeQueue()\n",
    "    q.DeQueue()\n",
    "    q.DeQueue()\n",
    "    q.DeQueue()\n",
    "    q.EnQueue(30)\n",
    "    q.EnQueue(40)\n",
    "    q.EnQueue(50)\n",
    "    q.EnQueue(55)\n",
    "    q.DeQueue()\n",
    "    q.DeQueue()\n",
    "    print(\"Queue Front : \" + str(q.top.data if q.top != None else -1))\n",
    "    print(\"Queue Rear : \" + str(q.bottom.data if q.bottom != None else -1))"
   ]
  },
  {
   "cell_type": "code",
   "execution_count": null,
   "metadata": {},
   "outputs": [],
   "source": []
  },
  {
   "cell_type": "code",
   "execution_count": null,
   "metadata": {},
   "outputs": [],
   "source": []
  },
  {
   "cell_type": "code",
   "execution_count": null,
   "metadata": {},
   "outputs": [],
   "source": []
  }
 ],
 "metadata": {
  "kernelspec": {
   "display_name": "Python 3",
   "language": "python",
   "name": "python3"
  },
  "language_info": {
   "codemirror_mode": {
    "name": "ipython",
    "version": 3
   },
   "file_extension": ".py",
   "mimetype": "text/x-python",
   "name": "python",
   "nbconvert_exporter": "python",
   "pygments_lexer": "ipython3",
   "version": "3.10.12"
  }
 },
 "nbformat": 4,
 "nbformat_minor": 2
}
