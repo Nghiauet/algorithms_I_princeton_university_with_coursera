{
 "cells": [
  {
   "cell_type": "markdown",
   "metadata": {},
   "source": [
    "public class Deque<Item> implements Iterable<Item> {\n",
    "\n",
    "    // construct an empty deque\n",
    "    public Deque()\n",
    "\n",
    "    // is the deque empty?\n",
    "    public boolean isEmpty()\n",
    "\n",
    "    // return the number of items on the deque\n",
    "    public int size()\n",
    "\n",
    "    // add the item to the front\n",
    "    public void addFirst(Item item)\n",
    "\n",
    "    // add the item to the back\n",
    "    public void addLast(Item item)\n",
    "\n",
    "    // remove and return the item from the front\n",
    "    public Item removeFirst()\n",
    "\n",
    "    // remove and return the item from the back\n",
    "    public Item removeLast()\n",
    "\n",
    "    // return an iterator over items in order from front to back\n",
    "    public Iterator<Item> iterator()\n",
    "\n",
    "    // unit testing (required)\n",
    "    public static void main(String[] args)\n",
    "\n",
    "}"
   ]
  },
  {
   "cell_type": "markdown",
   "metadata": {},
   "source": [
    "# Implement Linkedlist python"
   ]
  },
  {
   "cell_type": "code",
   "execution_count": 25,
   "metadata": {},
   "outputs": [],
   "source": [
    "class Node:\n",
    "    def __init__(self,data):\n",
    "        self.data = data \n",
    "        self.next = None"
   ]
  },
  {
   "cell_type": "code",
   "execution_count": 26,
   "metadata": {},
   "outputs": [],
   "source": [
    "class Queue():\n",
    "    def __init__(self):\n",
    "        self.top = self.bottom = None \n",
    "    def _isEmpty(self):\n",
    "        if self.top == None:\n",
    "            return True\n",
    "        return False\n",
    "    def EnQueue(self,data):\n",
    "        temp = Node(data)\n",
    "        if self._isEmpty():\n",
    "            self.top = self.bottom = temp\n",
    "            return \n",
    "        self.top.next = temp \n",
    "        self.top = temp # shift pointer to the right\n",
    "        \n",
    "    def DeQueue(self):\n",
    "        if self._isEmpty():\n",
    "            return\n",
    "        temp = self.bottom # shift bottom to the right \n",
    "        self.bottom = temp.next\n",
    "        print(f\"pop {temp.data}\")\n",
    "        if self.bottom == None:\n",
    "            self.top = None "
   ]
  },
  {
   "cell_type": "code",
   "execution_count": 27,
   "metadata": {},
   "outputs": [
    {
     "name": "stdout",
     "output_type": "stream",
     "text": [
      "pop 10\n",
      "pop 20\n",
      "pop 25\n",
      "pop 30\n",
      "pop 40\n",
      "Queue Front : 55\n",
      "Queue Rear : 50\n"
     ]
    }
   ],
   "source": [
    "# Driver Code\n",
    "if __name__ == '__main__':\n",
    "    q = Queue()\n",
    "    q.EnQueue(10)\n",
    "    q.EnQueue(20)\n",
    "    q.EnQueue(25)\n",
    "    q.DeQueue()\n",
    "    q.DeQueue()\n",
    "    q.DeQueue()\n",
    "    q.DeQueue()\n",
    "    q.EnQueue(30)\n",
    "    q.EnQueue(40)\n",
    "    q.EnQueue(50)\n",
    "    q.EnQueue(55)\n",
    "    q.DeQueue()\n",
    "    q.DeQueue()\n",
    "    print(\"Queue Front : \" + str(q.top.data if q.top != None else -1))\n",
    "    print(\"Queue Rear : \" + str(q.bottom.data if q.bottom != None else -1))"
   ]
  },
  {
   "cell_type": "markdown",
   "metadata": {},
   "source": [
    "# implement double linked list in python "
   ]
  },
  {
   "cell_type": "code",
   "execution_count": 28,
   "metadata": {},
   "outputs": [],
   "source": [
    "class MagicNode:\n",
    "    def __init__(self,data) -> None:\n",
    "        self.data = data \n",
    "        self.next = None \n",
    "        self.prev = None "
   ]
  },
  {
   "cell_type": "code",
   "execution_count": 39,
   "metadata": {},
   "outputs": [],
   "source": [
    "class Dequeue:\n",
    "    def __init__(self) :\n",
    "        self.first = self.last = None\n",
    "        self.size = 0 \n",
    "    def isEmpty(self):\n",
    "        if self.first ==None:\n",
    "            return True\n",
    "        return False\n",
    "    \n",
    "    def size(self):\n",
    "        return self.size()\n",
    "    def addFirst(self,item):\n",
    "        temp = MagicNode(item)\n",
    "        if self.first == None:\n",
    "            self.first = self.last = temp \n",
    "        else:\n",
    "            temp.prev = self.first\n",
    "            self.first.next = temp \n",
    "            self.first = temp\n",
    "    def addLast(self, item):\n",
    "        temp = MagicNode(item)\n",
    "        if self.last == None:\n",
    "            self.last = self.first = temp \n",
    "        else:\n",
    "            self.last.prev = temp\n",
    "            temp.next = self.last \n",
    "            self.last = temp \n",
    "    def removeFirst(self):\n",
    "        if self.isEmpty():\n",
    "            print('NoSuchElementException for removeFirst')\n",
    "        else:\n",
    "            if self.first.prev == None:\n",
    "                temp = self.first\n",
    "                self.first = self.last = None\n",
    "                print('removefirst pop: ',temp.data)\n",
    "                return temp.data\n",
    "            else:\n",
    "                temp = self.first.prev \n",
    "                temp.next = None \n",
    "                # save data before shift to left\n",
    "                data =self.first.data  \n",
    "                self.first = temp\n",
    "                return data \n",
    "    def removeLast(self):\n",
    "        if self.isEmpty():\n",
    "            print('NoSuchElementException for removeFirst')\n",
    "        else:\n",
    "            if self.last.next == None:\n",
    "                temp = self.last \n",
    "                self.last = self.first = None\n",
    "                print(\"removelast pop: \", temp.data)\n",
    "                return temp.data\n",
    "            else: \n",
    "                temp = self.last.next \n",
    "                temp.prev = None \n",
    "                # save data before shift to right\n",
    "                data = self.last.data \n",
    "                self.last = temp \n",
    "                return data \n",
    "    def iterator(self):\n",
    "        temp = self.last\n",
    "        print(\"forward\", end = \": \") \n",
    "        while temp is not None:\n",
    "            print(temp.data, end = \" \")\n",
    "            temp = temp.next\n",
    "        print()\n",
    "    def rev_iterator(self):\n",
    "        temp = self.first\n",
    "        print(\"backward\", end = \": \") \n",
    "        while temp is not None:\n",
    "            print(temp.data, end =\" \")\n",
    "            temp = temp.prev\n",
    "        print()"
   ]
  },
  {
   "cell_type": "code",
   "execution_count": 40,
   "metadata": {},
   "outputs": [
    {
     "name": "stdout",
     "output_type": "stream",
     "text": [
      "forward\n",
      "7 5 10 20 30 \n",
      "backward\n",
      "30 20 10 5 7 \n",
      "forward\n",
      "7 5 10 20 \n",
      "backward\n",
      "20 10 5 7 \n"
     ]
    }
   ],
   "source": [
    "# Driver Code\n",
    "if __name__ == '__main__':\n",
    "    q = Dequeue()\n",
    "    q.addFirst(10)\n",
    "    q.addFirst(20)\n",
    "    q.addLast(5)\n",
    "    q.addLast(7)\n",
    "    q.addFirst(30)\n",
    "\n",
    "    q.iterator()\n",
    "    q.rev_iterator()\n",
    "    \n",
    "    q.removeFirst()\n",
    "    q.iterator()\n",
    "    q.rev_iterator()\n",
    "    "
   ]
  },
  {
   "cell_type": "code",
   "execution_count": null,
   "metadata": {},
   "outputs": [],
   "source": []
  }
 ],
 "metadata": {
  "kernelspec": {
   "display_name": "Python 3",
   "language": "python",
   "name": "python3"
  },
  "language_info": {
   "codemirror_mode": {
    "name": "ipython",
    "version": 3
   },
   "file_extension": ".py",
   "mimetype": "text/x-python",
   "name": "python",
   "nbconvert_exporter": "python",
   "pygments_lexer": "ipython3",
   "version": "3.10.12"
  }
 },
 "nbformat": 4,
 "nbformat_minor": 2
}
